{
 "cells": [
  {
   "cell_type": "code",
   "execution_count": 1,
   "metadata": {},
   "outputs": [],
   "source": [
    "#Librarires and functions\n",
    "import numpy as np\n",
    "import matplotlib.pyplot as plt\n",
    "from tqdm import trange\n",
    "from IPython.display import Video\n",
    "\n",
    "from flygym.mujoco import Parameters, NeuroMechFly\n",
    "from flygym.mujoco.arena import FlatTerrain\n",
    "from flygym.mujoco.arena.tethered import Tethered\n",
    "from flygym.mujoco.examples.common import PreprogrammedSteps\n",
    "from flygym.mujoco.examples.cpg_controller import CPGNetwork\n",
    "\n",
    "from gymnasium import spaces\n",
    "from gymnasium.utils.env_checker import check_env"
   ]
  },
  {
   "cell_type": "code",
   "execution_count": 2,
   "metadata": {},
   "outputs": [],
   "source": [
    "#Implementing a standard tripod gait\n",
    "_tripod_phase_biases = np.pi * np.array(\n",
    "    [\n",
    "        [0, 1, 0, 1, 0, 1],\n",
    "        [1, 0, 1, 0, 1, 0],\n",
    "        [0, 1, 0, 1, 0, 1],\n",
    "        [1, 0, 1, 0, 1, 0],\n",
    "        [0, 1, 0, 1, 0, 1],\n",
    "        [1, 0, 1, 0, 1, 0],\n",
    "    ]\n",
    ")\n",
    "_tripod_coupling_weights = (_tripod_phase_biases > 0) * 10"
   ]
  },
  {
   "cell_type": "code",
   "execution_count": 20,
   "metadata": {},
   "outputs": [],
   "source": [
    "#Implementing a windy arena with a laminar wind\n",
    "class WindArena(FlatTerrain):\n",
    "    def __init__(\n",
    "        self,\n",
    "        #Change wind direction here\n",
    "        wind_vector=[0, 0.0, 0.0],\n",
    "        medium_density=0.01,\n",
    "        medium_viscosity=0.01,\n",
    "        **kwargs\n",
    "    ):\n",
    "        super().__init__(**kwargs)\n",
    "        self._add_wind(wind_vector, medium_density, medium_viscosity)\n",
    "\n",
    "    def _add_wind(self, wind_vector, medium_density, medium_viscosity):\n",
    "        # Here I directly change the fields of the xml option element\n",
    "        self.root_element.option.__setattr__(\"density\", medium_density)\n",
    "        self.root_element.option.__setattr__(\"viscosity\", medium_viscosity)\n",
    "        self.root_element.option.__setattr__(\"wind\", wind_vector)\n",
    "\n",
    "wind_arena = WindArena()"
   ]
  },
  {
   "cell_type": "code",
   "execution_count": 21,
   "metadata": {},
   "outputs": [
    {
     "data": {
      "text/plain": [
       "[MJCF Element: <jointactuatorfrc name=\"jointactuatorfrc_LArista\" joint=\"joint_LArista\"/>,\n",
       " MJCF Element: <jointpos name=\"jointpos_LArista\" joint=\"joint_LArista\"/>,\n",
       " MJCF Element: <jointactuatorfrc name=\"jointactuatorfrc_RArista\" joint=\"joint_RArista\"/>,\n",
       " MJCF Element: <jointpos name=\"jointpos_RArista\" joint=\"joint_RArista\"/>]"
      ]
     },
     "execution_count": 21,
     "metadata": {},
     "output_type": "execute_result"
    }
   ],
   "source": [
    "from typing import Any, Dict, Tuple\n",
    "\n",
    "class WindTurningNMF(NeuroMechFly):\n",
    "    def __init__(\n",
    "        self,\n",
    "        preprogrammed_steps=None,\n",
    "        intrinsic_freqs=np.ones(6) * 12,\n",
    "        intrinsic_amps=np.ones(6) * 1,\n",
    "        phase_biases=_tripod_phase_biases,\n",
    "        coupling_weights=_tripod_coupling_weights,\n",
    "        convergence_coefs=np.ones(6) * 20,\n",
    "        init_phases=None,\n",
    "        init_magnitudes=None,\n",
    "        amplitude_range=(-0.5, 1.5),\n",
    "        seed=0,\n",
    "        **kwargs,\n",
    "    ):\n",
    "        # Initialize core NMF simulation\n",
    "        super().__init__(**kwargs)\n",
    "\n",
    "        if preprogrammed_steps is None:\n",
    "            preprogrammed_steps = PreprogrammedSteps()\n",
    "        self.preprogrammed_steps = preprogrammed_steps\n",
    "        self.intrinsic_freqs = intrinsic_freqs\n",
    "        self.intrinsic_amps = intrinsic_amps\n",
    "        self.phase_biases = phase_biases\n",
    "        self.coupling_weights = coupling_weights\n",
    "        self.convergence_coefs = convergence_coefs\n",
    "        self.amplitude_range = amplitude_range\n",
    "\n",
    "        # Define action and observation spaces\n",
    "        self.action_space = spaces.Box(*amplitude_range, shape=(2,))\n",
    "\n",
    "        # Initialize CPG network\n",
    "        self.cpg_network = CPGNetwork(\n",
    "            timestep=self.sim_params.timestep,\n",
    "            intrinsic_freqs=intrinsic_freqs,\n",
    "            intrinsic_amps=intrinsic_amps,\n",
    "            coupling_weights=coupling_weights,\n",
    "            phase_biases=phase_biases,\n",
    "            convergence_coefs=convergence_coefs,\n",
    "            seed=seed,\n",
    "        )\n",
    "        self.cpg_network.reset(init_phases, init_magnitudes)\n",
    "    \n",
    "    def _set_joints_stiffness_and_damping(self):\n",
    "        for joint in self.model.find_all(\"joint\"):\n",
    "            if joint.name in self.actuated_joints:\n",
    "                joint.stiffness = self.sim_params.joint_stiffness\n",
    "                joint.damping = self.sim_params.joint_damping\n",
    "            elif \"Arista\" in joint.name:\n",
    "                joint.stiffness = 0.002\n",
    "                joint.damping = 1e-5\n",
    "            elif \"Head\" in joint.name:\n",
    "                joint.stiffness = 1000.0\n",
    "                joint.damping = 1000.0\n",
    "            else:\n",
    "                joint.stiffness = self.sim_params.non_actuated_joint_stiffness\n",
    "                joint.damping = self.sim_params.non_actuated_joint_damping\n",
    "            \n",
    "    def _add_joint_sensors(self):\n",
    "        self._arista_sensors = []\n",
    "        self._debug_end_effectors = []\n",
    "\n",
    "        for side in \"LR\":\n",
    "            arista_sensor_joint = self.model.sensor.add(\n",
    "                \"jointpos\", name=f\"jointpos_{side}Arista\", joint=f\"joint_{side}Arista\"\n",
    "            )\n",
    "            arista_sensor_torque = self.model.sensor.add(\n",
    "                \"jointactuatorfrc\", name=f\"jointactuatorfrc_{side}Arista\", joint=f\"joint_{side}Arista\"\n",
    "            )\n",
    "            self._arista_sensors.append(arista_sensor_torque)\n",
    "            self._arista_sensors.append(arista_sensor_joint)            \n",
    "\n",
    "        return super()._add_joint_sensors()\n",
    "    \n",
    "    #def get_observation(self):\n",
    "        obs = super().get_observation()\n",
    "        arista_obs = self.physics.bind(self._arista_sensors).sensordata\n",
    "        obs[\"arista_joint_pos\"] = arista_obs.copy()\n",
    "        \n",
    "        return obs\n",
    "\n",
    "    def reset(self, seed=None, init_phases=None, init_magnitudes=None, **kwargs):\n",
    "        obs, info = super().reset(seed=seed)\n",
    "        self.cpg_network.random_state = np.random.RandomState(seed)\n",
    "        self.cpg_network.intrinsic_amps = self.intrinsic_amps\n",
    "        self.cpg_network.intrinsic_freqs = self.intrinsic_freqs\n",
    "        self.cpg_network.reset(init_phases, init_magnitudes)\n",
    "        return obs, info\n",
    "\n",
    "    def step(self, action):\n",
    "        \"\"\"Step the simulation forward one timestep.\n",
    "\n",
    "        Parameters\n",
    "        ----------\n",
    "        action : np.ndarray\n",
    "            Array of shape (2,) containing descending signal encoding\n",
    "            turning.\n",
    "        \"\"\"\n",
    "        # update CPG parameters\n",
    "        amps = np.repeat(np.abs(action[:, np.newaxis]), 3, axis=1).flatten()\n",
    "        freqs = self.intrinsic_freqs.copy()\n",
    "        freqs[:3] *= 1 if action[0] > 0 else -1\n",
    "        freqs[3:] *= 1 if action[1] > 0 else -1\n",
    "        self.cpg_network.intrinsic_amps = amps\n",
    "        self.cpg_network.intrinsic_freqs = freqs\n",
    "\n",
    "        self.cpg_network.step()\n",
    "\n",
    "        joints_angles = []\n",
    "        adhesion_onoff = []\n",
    "        for i, leg in enumerate(self.preprogrammed_steps.legs):\n",
    "            # get target angles from CPGs and apply correction\n",
    "            my_joints_angles = self.preprogrammed_steps.get_joint_angles(\n",
    "                leg,\n",
    "                self.cpg_network.curr_phases[i],\n",
    "                self.cpg_network.curr_magnitudes[i],\n",
    "            )\n",
    "            joints_angles.append(my_joints_angles)\n",
    "\n",
    "            # get adhesion on/off signal\n",
    "            my_adhesion_onoff = self.preprogrammed_steps.get_adhesion_onoff(\n",
    "                leg, self.cpg_network.curr_phases[i]\n",
    "            )\n",
    "            adhesion_onoff.append(my_adhesion_onoff)\n",
    "\n",
    "        action = {\n",
    "            \"joints\": np.array(np.concatenate(joints_angles)),\n",
    "            \"adhesion\": np.array(adhesion_onoff).astype(int),\n",
    "        }\n",
    "        return super().step(action)\n",
    "\n",
    "windturning_nmf = WindTurningNMF(Parameters())\n",
    "windturning_nmf._arista_sensors"
   ]
  },
  {
   "cell_type": "code",
   "execution_count": 22,
   "metadata": {},
   "outputs": [],
   "source": [
    "run_time = 0.5\n",
    "\n",
    "contact_sensor_placements = [\n",
    "    f\"{leg}{segment}\"\n",
    "    for leg in [\"LF\", \"LM\", \"LH\", \"RF\", \"RM\", \"RH\"]\n",
    "    for segment in [\"Tibia\", \"Tarsus1\", \"Tarsus2\", \"Tarsus3\", \"Tarsus4\", \"Tarsus5\"]\n",
    "]\n",
    "\n",
    "sim_params = Parameters(\n",
    "    timestep=1e-4,\n",
    "    render_mode=\"saved\",\n",
    "    #render_camera=\"Animat/camera_top\",\n",
    "    render_camera=\"Animat/camera_front_zoomin\",\n",
    "    render_playspeed=0.1,\n",
    "    enable_adhesion=True\n",
    ")\n",
    "\n",
    "nmf = WindTurningNMF(\n",
    "    sim_params = sim_params,\n",
    "    arena = WindArena(),\n",
    "    contact_sensor_placements=contact_sensor_placements,\n",
    "    spawn_pos=(0,0,0.2)\n",
    ")\n",
    "\n",
    "check_env(nmf)"
   ]
  },
  {
   "cell_type": "code",
   "execution_count": 28,
   "metadata": {},
   "outputs": [
    {
     "name": "stderr",
     "output_type": "stream",
     "text": [
      "100%|██████████| 5000/5000 [00:53<00:00, 93.34it/s] \n"
     ]
    }
   ],
   "source": [
    "obs_list = []\n",
    "magnitude_hist = []\n",
    "end_effector_L = []\n",
    "end_effector_R = []\n",
    "\n",
    "\n",
    "target_num_steps = int(run_time / nmf.timestep)\n",
    "\n",
    "obs, info = nmf.reset(seed=0)\n",
    "\n",
    "for i in trange(target_num_steps) :\n",
    "    curr_time = i * nmf.sim_params.timestep #might be useless\n",
    "    action = np.array([1, 1])\n",
    "    obs, reward, terminated, truncated, info = nmf.step(action)\n",
    "\n",
    "    obs_list.append(obs)    \n",
    "    end_effector_L.append(nmf.physics.named.data.qpos[f\"Animat/joint_LArista\"])\n",
    "    end_effector_R.append(nmf.physics.named.data.qpos[f\"Animat/joint_RArista\"])\n",
    "    magnitude_hist.append(nmf.cpg_network.curr_magnitudes.copy())\n",
    "\n",
    "    nmf.render()\n",
    "\n",
    "\n",
    "nmf.save_video(\"arista.mp4\", 0)\n"
   ]
  },
  {
   "cell_type": "code",
   "execution_count": 29,
   "metadata": {},
   "outputs": [
    {
     "data": {
      "text/plain": [
       "dict_keys(['joints', 'fly', 'contact_forces', 'end_effectors', 'fly_orientation'])"
      ]
     },
     "execution_count": 29,
     "metadata": {},
     "output_type": "execute_result"
    }
   ],
   "source": [
    "obs_list[0].keys()"
   ]
  },
  {
   "cell_type": "code",
   "execution_count": 30,
   "metadata": {},
   "outputs": [
    {
     "name": "stdout",
     "output_type": "stream",
     "text": [
      "[0.002] [0. 1. 0.] Animat/LArista\n",
      "[0.002] [0. 1. 0.] Animat/RArista\n"
     ]
    }
   ],
   "source": [
    "jnt = nmf.physics.model.jnt(\"Animat/joint_LArista\")\n",
    "print(jnt.stiffness, jnt.axis, nmf.physics.model.id2name(jnt.bodyid, \"body\"))\n",
    "\n",
    "jnt2 = nmf.physics.model.jnt(\"Animat/joint_RArista\")\n",
    "print(jnt2.stiffness, jnt2.axis, nmf.physics.model.id2name(jnt2.bodyid, \"body\"))"
   ]
  },
  {
   "cell_type": "code",
   "execution_count": 31,
   "metadata": {},
   "outputs": [
    {
     "name": "stdout",
     "output_type": "stream",
     "text": [
      "[-0.57366901]\n",
      "[-0.1287]\n"
     ]
    }
   ],
   "source": [
    "qpos = nmf.physics.named.data.qpos[\"Animat/joint_LArista\"]\n",
    "print(qpos)\n",
    "\n",
    "qpos = nmf.physics.named.data.qpos[\"Animat/joint_RArista\"]\n",
    "print(qpos)"
   ]
  },
  {
   "cell_type": "code",
   "execution_count": 32,
   "metadata": {},
   "outputs": [
    {
     "data": {
      "text/html": [
       "<video src=\"./arista.mp4\" controls  >\n",
       "      Your browser does not support the <code>video</code> element.\n",
       "    </video>"
      ],
      "text/plain": [
       "<IPython.core.display.Video object>"
      ]
     },
     "execution_count": 32,
     "metadata": {},
     "output_type": "execute_result"
    }
   ],
   "source": [
    "Video(\"./arista.mp4\")"
   ]
  },
  {
   "cell_type": "code",
   "execution_count": null,
   "metadata": {},
   "outputs": [],
   "source": []
  }
 ],
 "metadata": {
  "kernelspec": {
   "display_name": "flygym",
   "language": "python",
   "name": "python3"
  },
  "language_info": {
   "codemirror_mode": {
    "name": "ipython",
    "version": 3
   },
   "file_extension": ".py",
   "mimetype": "text/x-python",
   "name": "python",
   "nbconvert_exporter": "python",
   "pygments_lexer": "ipython3",
   "version": "3.11.7"
  }
 },
 "nbformat": 4,
 "nbformat_minor": 2
}
