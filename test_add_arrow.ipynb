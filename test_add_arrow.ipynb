{
 "cells": [
  {
   "cell_type": "code",
   "execution_count": 8,
   "metadata": {},
   "outputs": [],
   "source": [
    "#Librarires and functions\n",
    "import numpy as np\n",
    "import matplotlib.pyplot as plt\n",
    "from tqdm import trange\n",
    "from IPython.display import Video\n",
    "\n",
    "from flygym.mujoco import Parameters, NeuroMechFly\n",
    "from flygym.mujoco.arena import FlatTerrain\n",
    "from flygym.mujoco.arena.tethered import Tethered\n",
    "from flygym.mujoco.examples.common import PreprogrammedSteps\n",
    "from flygym.mujoco.examples.cpg_controller import CPGNetwork\n",
    "\n",
    "from gymnasium import spaces\n",
    "from gymnasium.utils.env_checker import check_env\n",
    "import cv2"
   ]
  },
  {
   "cell_type": "code",
   "execution_count": 2,
   "metadata": {},
   "outputs": [],
   "source": [
    "#Implementing a standard tripod gait\n",
    "_tripod_phase_biases = np.pi * np.array(\n",
    "    [\n",
    "        [0, 1, 0, 1, 0, 1],\n",
    "        [1, 0, 1, 0, 1, 0],\n",
    "        [0, 1, 0, 1, 0, 1],\n",
    "        [1, 0, 1, 0, 1, 0],\n",
    "        [0, 1, 0, 1, 0, 1],\n",
    "        [1, 0, 1, 0, 1, 0],\n",
    "    ]\n",
    ")\n",
    "_tripod_coupling_weights = (_tripod_phase_biases > 0) * 10"
   ]
  },
  {
   "cell_type": "code",
   "execution_count": 3,
   "metadata": {},
   "outputs": [],
   "source": [
    "#Implementing a windy arena with a laminar wind\n",
    "from dm_control.mjcf.physics import Physics\n",
    "\n",
    "\n",
    "class WindArena(FlatTerrain):\n",
    "    def __init__(\n",
    "        self,\n",
    "        #Change wind direction here\n",
    "        wind_vector=[ -1, 3, 0],\n",
    "        medium_density=0.01,\n",
    "        medium_viscosity=0.01,\n",
    "        **kwargs\n",
    "    ):\n",
    "        super().__init__(**kwargs)\n",
    "        self._add_wind(wind_vector, medium_density, medium_viscosity)\n",
    "\n",
    "    def _add_wind(self, wind_vector, medium_density, medium_viscosity):\n",
    "        # Here I directly change the fields of the xml option element\n",
    "        self.root_element.option.__setattr__(\"density\", medium_density)\n",
    "        self.root_element.option.__setattr__(\"viscosity\", medium_viscosity)\n",
    "        self.root_element.option.__setattr__(\"wind\", wind_vector)\n",
    "    \n",
    "\n",
    "wind_arena = WindArena()"
   ]
  },
  {
   "cell_type": "code",
   "execution_count": 28,
   "metadata": {},
   "outputs": [
    {
     "data": {
      "text/plain": [
       "[MJCF Element: <jointactuatorfrc name=\"jointactuatorfrc_LArista\" joint=\"joint_LArista\"/>,\n",
       " MJCF Element: <jointpos name=\"jointpos_LArista\" joint=\"joint_LArista\"/>,\n",
       " MJCF Element: <jointactuatorfrc name=\"jointactuatorfrc_RArista\" joint=\"joint_RArista\"/>,\n",
       " MJCF Element: <jointpos name=\"jointpos_RArista\" joint=\"joint_RArista\"/>]"
      ]
     },
     "execution_count": 28,
     "metadata": {},
     "output_type": "execute_result"
    }
   ],
   "source": [
    "from typing import Any, Dict, Tuple\n",
    "\n",
    "class WindTurningNMF(NeuroMechFly):\n",
    "    def __init__(\n",
    "        self,\n",
    "        preprogrammed_steps=None,\n",
    "        intrinsic_freqs=np.ones(6) * 12,\n",
    "        intrinsic_amps=np.ones(6) * 1,\n",
    "        phase_biases=_tripod_phase_biases,\n",
    "        coupling_weights=_tripod_coupling_weights,\n",
    "        convergence_coefs=np.ones(6) * 20,\n",
    "        init_phases=None,\n",
    "        init_magnitudes=None,\n",
    "        amplitude_range=(-0.5, 1.5),\n",
    "        seed=0,\n",
    "        **kwargs,\n",
    "    ):\n",
    "        # Initialize core NMF simulation\n",
    "        super().__init__(**kwargs)\n",
    "\n",
    "        if preprogrammed_steps is None:\n",
    "            preprogrammed_steps = PreprogrammedSteps()\n",
    "        self.preprogrammed_steps = preprogrammed_steps\n",
    "        self.intrinsic_freqs = intrinsic_freqs\n",
    "        self.intrinsic_amps = intrinsic_amps\n",
    "        self.phase_biases = phase_biases\n",
    "        self.coupling_weights = coupling_weights\n",
    "        self.convergence_coefs = convergence_coefs\n",
    "        self.amplitude_range = amplitude_range\n",
    "\n",
    "        # Define action and observation spaces\n",
    "        self.action_space = spaces.Box(*amplitude_range, shape=(2,))\n",
    "\n",
    "        # Initialize CPG network\n",
    "        self.cpg_network = CPGNetwork(\n",
    "            timestep=self.sim_params.timestep,\n",
    "            intrinsic_freqs=intrinsic_freqs,\n",
    "            intrinsic_amps=intrinsic_amps,\n",
    "            coupling_weights=coupling_weights,\n",
    "            phase_biases=phase_biases,\n",
    "            convergence_coefs=convergence_coefs,\n",
    "            seed=seed,\n",
    "        )\n",
    "        self.cpg_network.reset(init_phases, init_magnitudes)\n",
    "    \n",
    "    def _set_joints_stiffness_and_damping(self):\n",
    "        for joint in self.model.find_all(\"joint\"):\n",
    "            if joint.name in self.actuated_joints:\n",
    "                joint.stiffness = self.sim_params.joint_stiffness\n",
    "                joint.damping = self.sim_params.joint_damping\n",
    "            #elif \"Arista\" in joint.name:\n",
    "                #joint.stiffness = 0.002\n",
    "                #joint.damping = 1e-5\n",
    "            elif \"LArista\" in joint.name:\n",
    "                joint.stiffness = 0.006\n",
    "                joint.damping = 2e-4\n",
    "            elif \"RArista\" in joint.name:\n",
    "                joint.stiffness = 0.006\n",
    "                joint.damping = 2e-4\n",
    "            elif \"Head\" in joint.name:\n",
    "                joint.stiffness = 1000.0\n",
    "                joint.damping = 1000.0\n",
    "            else:\n",
    "                joint.stiffness = self.sim_params.non_actuated_joint_stiffness\n",
    "                joint.damping = self.sim_params.non_actuated_joint_damping\n",
    "            \n",
    "    def _add_joint_sensors(self):\n",
    "        self._arista_sensors = []\n",
    "        self._debug_end_effectors = []\n",
    "\n",
    "        for side in \"LR\":\n",
    "            arista_sensor_joint = self.model.sensor.add(\n",
    "                \"jointpos\", name=f\"jointpos_{side}Arista\", joint=f\"joint_{side}Arista\"\n",
    "            )\n",
    "            arista_sensor_torque = self.model.sensor.add(\n",
    "                \"jointactuatorfrc\", name=f\"jointactuatorfrc_{side}Arista\", joint=f\"joint_{side}Arista\"\n",
    "            )\n",
    "            self._arista_sensors.append(arista_sensor_torque)\n",
    "            self._arista_sensors.append(arista_sensor_joint)            \n",
    "\n",
    "        return super()._add_joint_sensors()\n",
    "    \n",
    "    def get_observation(self):\n",
    "        obs = super().get_observation()\n",
    "        arista_obs = self.physics.bind(self._arista_sensors).sensordata\n",
    "        body_pos = self.physics.bind(self._body_sensors).sensordata\n",
    "        obs[\"arista_joint_pos\"] = arista_obs.copy()\n",
    "        obs[\"body_pos\"] = body_pos.copy()\n",
    "        \n",
    "        return obs\n",
    "    \n",
    "    def _define_observation_space(self):\n",
    "        _observation_space = {\n",
    "            \"joints\": spaces.Box(\n",
    "                low=-np.inf, high=np.inf, shape=(3, len(self.actuated_joints))\n",
    "            ),\n",
    "            \"fly\": spaces.Box(low=-np.inf, high=np.inf, shape=(4, 3)),\n",
    "            \"contact_forces\": spaces.Box(\n",
    "                low=-np.inf, high=np.inf, shape=(len(self.contact_sensor_placements), 3)\n",
    "            ),\n",
    "            # x, y, z positions of the end effectors (tarsus-5 segments)\n",
    "            \"end_effectors\": spaces.Box(low=-np.inf, high=np.inf, shape=(6, 3)),\n",
    "            \"fly_orientation\": spaces.Box(low=-np.inf, high=np.inf, shape=(3,)),\n",
    "            \"arista_joint_pos\": spaces.Box(low=-np.inf, high=np.inf, shape=(4,))\n",
    "        }\n",
    "        if self.sim_params.enable_vision:\n",
    "            _observation_space[\"vision\"] = spaces.Box(\n",
    "                low=0,\n",
    "                high=255,\n",
    "                shape=(2, self._mujoco_config[\"vision\"][\"num_ommatidia_per_eye\"], 2),\n",
    "            )\n",
    "        if self.sim_params.enable_olfaction:\n",
    "            _observation_space[\"odor_intensity\"] = spaces.Box(\n",
    "                low=0,\n",
    "                high=np.inf,\n",
    "                shape=(self.arena.odor_dimensions, len(self._antennae_sensors)),\n",
    "            )\n",
    "        return spaces.Dict(_observation_space)\n",
    "\n",
    "    def reset(self, seed=None, init_phases=None, init_magnitudes=None, **kwargs):\n",
    "        obs, info = super().reset(seed=seed)\n",
    "        self.cpg_network.random_state = np.random.RandomState(seed)\n",
    "        self.cpg_network.intrinsic_amps = self.intrinsic_amps\n",
    "        self.cpg_network.intrinsic_freqs = self.intrinsic_freqs\n",
    "        self.cpg_network.reset(init_phases, init_magnitudes)\n",
    "        #Reset the obs by hand\n",
    "        obs[\"arista_joint_pos\"] = np.zeros((4,))\n",
    "        return obs, info\n",
    "\n",
    "    def step(self, action):\n",
    "        \"\"\"Step the simulation forward one timestep.\n",
    "\n",
    "        Parameters\n",
    "        ----------\n",
    "        action : np.ndarray\n",
    "            Array of shape (2,) containing descending signal encoding\n",
    "            turning.\n",
    "        \"\"\"\n",
    "        # update CPG parameters\n",
    "        amps = np.repeat(np.abs(action[:, np.newaxis]), 3, axis=1).flatten()\n",
    "        freqs = self.intrinsic_freqs.copy()\n",
    "        freqs[:3] *= 1 if action[0] > 0 else -1\n",
    "        freqs[3:] *= 1 if action[1] > 0 else -1\n",
    "        self.cpg_network.intrinsic_amps = amps\n",
    "        self.cpg_network.intrinsic_freqs = freqs\n",
    "\n",
    "        self.cpg_network.step()\n",
    "\n",
    "        joints_angles = []\n",
    "        adhesion_onoff = []\n",
    "        for i, leg in enumerate(self.preprogrammed_steps.legs):\n",
    "            # get target angles from CPGs and apply correction\n",
    "            my_joints_angles = self.preprogrammed_steps.get_joint_angles(\n",
    "                leg,\n",
    "                self.cpg_network.curr_phases[i],\n",
    "                self.cpg_network.curr_magnitudes[i],\n",
    "            )\n",
    "            joints_angles.append(my_joints_angles)\n",
    "\n",
    "            # get adhesion on/off signal\n",
    "            my_adhesion_onoff = self.preprogrammed_steps.get_adhesion_onoff(\n",
    "                leg, self.cpg_network.curr_phases[i]\n",
    "            )\n",
    "            adhesion_onoff.append(my_adhesion_onoff)\n",
    "\n",
    "        action = {\n",
    "            \"joints\": np.array(np.concatenate(joints_angles)),\n",
    "            \"adhesion\": np.array(adhesion_onoff).astype(int),\n",
    "        }\n",
    "        return super().step(action)\n",
    "\n",
    "windturning_nmf = WindTurningNMF(Parameters())\n",
    "windturning_nmf._arista_sensors"
   ]
  },
  {
   "cell_type": "code",
   "execution_count": 29,
   "metadata": {},
   "outputs": [],
   "source": [
    "run_time = 5\n",
    "\n",
    "contact_sensor_placements = [\n",
    "    f\"{leg}{segment}\"\n",
    "    for leg in [\"LF\", \"LM\", \"LH\", \"RF\", \"RM\", \"RH\"]\n",
    "    for segment in [\"Tibia\", \"Tarsus1\", \"Tarsus2\", \"Tarsus3\", \"Tarsus4\", \"Tarsus5\"]\n",
    "]\n",
    "\n",
    "sim_params = Parameters(\n",
    "    timestep=1e-4,\n",
    "    render_mode=\"saved\",\n",
    "    render_camera=\"Animat/camera_top\",\n",
    "\n",
    "\n",
    "    #render_camera=\"Animat/camera_front_zoomin\",\n",
    "    render_playspeed=0.5,\n",
    "    enable_adhesion=True\n",
    ")\n",
    "\n",
    "nmf = WindTurningNMF(\n",
    "    sim_params = sim_params,\n",
    "    arena = WindArena(),\n",
    "    contact_sensor_placements=contact_sensor_placements,\n",
    "    spawn_pos=(0,0,0.2)\n",
    ")\n",
    "\n",
    "#check_env(nmf)"
   ]
  },
  {
   "cell_type": "code",
   "execution_count": 30,
   "metadata": {},
   "outputs": [
    {
     "name": "stderr",
     "output_type": "stream",
     "text": [
      "  0%|          | 0/50000 [00:00<?, ?it/s]"
     ]
    },
    {
     "name": "stderr",
     "output_type": "stream",
     "text": [
      "100%|██████████| 50000/50000 [04:08<00:00, 200.83it/s]\n"
     ]
    }
   ],
   "source": [
    "obs_list = []\n",
    "magnitude_hist = []\n",
    "end_effector_L = []\n",
    "end_effector_R = []\n",
    "\n",
    "AverageWindowL = np.array([])\n",
    "AverageWindowR = np.array([])\n",
    "\n",
    "target_num_steps = int(run_time / nmf.timestep)\n",
    "\n",
    "obs, info = nmf.reset(seed=0)\n",
    "\n",
    "for i in trange(target_num_steps) :\n",
    "    curr_time = i * nmf.sim_params.timestep #might be useless\n",
    "    #if((L-R)>0.010):\n",
    "    #  action=np.array([1, 0.2])\n",
    "    #if((L-R)<-0.010):\n",
    "    #  action=np.array([0.1, 1])\n",
    "\n",
    "    L = obs[\"arista_joint_pos\"][1]\n",
    "    R = obs[\"arista_joint_pos\"][3]\n",
    "\n",
    "    if((L-R)>0.008) :\n",
    "        action=np.array([1, 0.2])\n",
    "    else :\n",
    "        action = np.array([1, 1])\n",
    "    \n",
    "    obs, reward, terminated, truncated, info = nmf.step(action)\n",
    "\n",
    "    AverageWindowL=np.append(AverageWindowL,obs[\"arista_joint_pos\"][1])\n",
    "    AverageWindowR=np.append(AverageWindowR,obs[\"arista_joint_pos\"][3])\n",
    "\n",
    "    if(len(AverageWindowL)>=1800):\n",
    "       AverageWindowL=np.delete(AverageWindowL,0)\n",
    "       AverageWindowR=np.delete(AverageWindowR,0)\n",
    "\n",
    "    obs[\"arista_joint_pos\"][1]=np.mean(AverageWindowL)\n",
    "    obs[\"arista_joint_pos\"][3]=np.mean(AverageWindowR)\n",
    "\n",
    "\n",
    "    obs_list.append(obs)    \n",
    "\n",
    "\n",
    "    end_effector_L.append(nmf.physics.named.data.qpos[f\"Animat/joint_LArista\"].copy())\n",
    "    end_effector_R.append(nmf.physics.named.data.qpos[f\"Animat/joint_RArista\"].copy())\n",
    "    magnitude_hist.append(nmf.cpg_network.curr_magnitudes.copy())\n",
    "\n",
    "    nmf.render()\n",
    "\n",
    "\n",
    "nmf.save_video(\"arista.mp4\", 0)\n"
   ]
  },
  {
   "cell_type": "code",
   "execution_count": 211,
   "metadata": {},
   "outputs": [
    {
     "data": {
      "text/plain": [
       "[<matplotlib.lines.Line2D at 0x209e33319d0>]"
      ]
     },
     "execution_count": 211,
     "metadata": {},
     "output_type": "execute_result"
    },
    {
     "data": {
      "image/png": "[encoded data removed]",
      "text/plain": [
       "<Figure size 640x480 with 1 Axes>"
      ]
     },
     "metadata": {},
     "output_type": "display_data"
    }
   ],
   "source": [
    "#plot the obs[\"body_pos\"]\n",
    "body_pos = np.array([obs[\"body_pos\"] for obs in obs_list])\n",
    "plt.plot(body_pos[:,0], body_pos[:,1])"
   ]
  },
  {
   "cell_type": "code",
   "execution_count": 212,
   "metadata": {},
   "outputs": [
    {
     "name": "stdout",
     "output_type": "stream",
     "text": [
      "[-1  3]\n"
     ]
    }
   ],
   "source": [
    "body_pos = np.array([obs[\"body_pos\"] for obs in obs_list])\n",
    "start_pt = (body_pos[:,0].astype(int),body_pos[:,1].astype(int))\n",
    "\n",
    "end_pt = start_pt[1][1] + np.array([-1,3])\n",
    "print(end_pt)"
   ]
  },
  {
   "cell_type": "code",
   "execution_count": 216,
   "metadata": {},
   "outputs": [],
   "source": [
    "cap = cv2.VideoCapture(\"arista.mp4\")\n",
    "frame_width = int(cap.get(3)) \n",
    "frame_height = int(cap.get(4)) \n",
    "fps = cap.get(cv2.CAP_PROP_FPS)\n",
    "\n",
    "   \n",
    "size = (frame_width, frame_height)\n",
    "out = cv2.VideoWriter('arista_wind.avi', cv2.VideoWriter_fourcc(*'MJPG'), fps, size)\n"
   ]
  },
  {
   "cell_type": "code",
   "execution_count": 214,
   "metadata": {},
   "outputs": [],
   "source": [
    "while(True): \n",
    "      \n",
    "    # reading from frame \n",
    "    ret,frame = cap.read() \n",
    "    if ret: \n",
    "\n",
    "        cv2.arrowedLine(\n",
    "            frame,\n",
    "            (int(frame_width/2), int(frame_height/2)),\n",
    "            # Need to invert sign of y coordinate as the zero is on top\n",
    "            (int(frame_width/2)-50, int(frame_height/2)-150),\n",
    "            color=(0, 0, 255),\n",
    "            thickness=2,\n",
    "            tipLength=0.1,\n",
    "        )\n",
    "\n",
    "        # save all frames as a video\n",
    "        out.write(frame)\n",
    "    else: \n",
    "        break\n",
    "\n",
    "# Release all space and windows once done \n",
    "cap.release() \n",
    "out.release()\n",
    "cv2.destroyAllWindows()"
   ]
  },
  {
   "cell_type": "code",
   "execution_count": 217,
   "metadata": {},
   "outputs": [
    {
     "data": {
      "text/plain": [
       "<matplotlib.image.AxesImage at 0x209ddeb0810>"
      ]
     },
     "execution_count": 217,
     "metadata": {},
     "output_type": "execute_result"
    },
    {
     "data": {
      "image/png": "[encoded data removed]",
      "text/plain": [
       "<Figure size 640x480 with 1 Axes>"
      ]
     },
     "metadata": {},
     "output_type": "display_data"
    }
   ],
   "source": [
    "cap = cv2.VideoCapture(\"arista.mp4\")\n",
    "ret,frame = cap.read() \n",
    "cv2.arrowedLine(\n",
    "            frame,\n",
    "            (int(frame_width/2), int(frame_height/2)),\n",
    "            # Need to invert sign of y coordinate as the zero is on top\n",
    "            (int(frame_width/2)-50, int(frame_height/2)-150),\n",
    "            color=(0, 0, 255),\n",
    "            thickness=2,\n",
    "            tipLength=0.1,\n",
    "        )\n",
    "plt.imshow(frame)"
   ]
  },
  {
   "cell_type": "code",
   "execution_count": null,
   "metadata": {},
   "outputs": [],
   "source": []
  },
  {
   "cell_type": "code",
   "execution_count": null,
   "metadata": {},
   "outputs": [],
   "source": []
  }
 ],
 "metadata": {
  "kernelspec": {
   "display_name": "flygym",
   "language": "python",
   "name": "python3"
  },
  "language_info": {
   "codemirror_mode": {
    "name": "ipython",
    "version": 3
   },
   "file_extension": ".py",
   "mimetype": "text/x-python",
   "name": "python",
   "nbconvert_exporter": "python",
   "pygments_lexer": "ipython3",
   "version": "3.11.7"
  }
 },
 "nbformat": 4,
 "nbformat_minor": 2
}
